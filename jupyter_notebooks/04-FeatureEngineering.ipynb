{
  "cells": [
    {
      "cell_type": "markdown",
      "metadata": {
        "id": "0aStgWSO0E0E"
      },
      "source": [
        "# **Feature engineering notebook**"
      ]
    },
    {
      "cell_type": "markdown",
      "metadata": {
        "id": "1eLEkw5O0ECa"
      },
      "source": [
        "## Objectives\n",
        "\n",
        "Answer business requirement 2:\n",
        "\n",
        "* The client wants to improve the predictive power of the model by creating new features and transforming existing ones.\n",
        "\n",
        "## Inputs\n",
        "\n",
        "* outputs/datasets/cleaned/house_prices_records_train.csv\n",
        "* outputs/datasets/cleaned/house_prices_records_test.csv\n",
        "\n",
        "## Outputs\n",
        "\n",
        "* Generate code that performs feature engineering and prepares the data for building the ML pipeline.\n",
        "\n",
        "## Additional comments\n",
        "\n"
      ]
    },
    {
      "cell_type": "markdown",
      "metadata": {
        "id": "9uWZXH9LwoQg"
      },
      "source": [
        "---"
      ]
    },
    {
      "cell_type": "markdown",
      "metadata": {
        "id": "cqP-UeN-z3i2"
      },
      "source": [
        "# Change working directory"
      ]
    },
    {
      "cell_type": "markdown",
      "metadata": {
        "id": "aOGIGS-uz3i2"
      },
      "source": [
        "We need to change the working directory from its current folder to its parent folder\n",
        "* We access the current directory with os.getcwd()"
      ]
    },
    {
      "cell_type": "code",
      "execution_count": 1,
      "metadata": {
        "id": "wZfF_j-Bz3i4",
        "outputId": "66943449-1436-4c3d-85c7-b85f9f78349b"
      },
      "outputs": [
        {
          "data": {
            "text/plain": [
              "'c:\\\\-MY STUDY-\\\\Coding\\\\projects\\\\project-5\\\\jupyter_notebooks'"
            ]
          },
          "execution_count": 1,
          "metadata": {},
          "output_type": "execute_result"
        }
      ],
      "source": [
        "import os\n",
        "current_dir = os.getcwd()\n",
        "current_dir"
      ]
    },
    {
      "cell_type": "markdown",
      "metadata": {
        "id": "9MWW8E7lz3i7"
      },
      "source": [
        "We want to make the parent of the current directory the new current directory\n",
        "* os.path.dirname() gets the parent directory\n",
        "* os.chir() defines the new current directory"
      ]
    },
    {
      "cell_type": "code",
      "execution_count": 2,
      "metadata": {
        "id": "TwHsQRWjz3i9",
        "outputId": "86849db3-cd2f-4cc5-ebb8-2d0caafa1a2c"
      },
      "outputs": [
        {
          "name": "stdout",
          "output_type": "stream",
          "text": [
            "You set a new current directory\n"
          ]
        }
      ],
      "source": [
        "os.chdir(os.path.dirname(current_dir))\n",
        "print(\"You set a new current directory\")"
      ]
    },
    {
      "cell_type": "markdown",
      "metadata": {
        "id": "M_xPk_Ijz3i-"
      },
      "source": [
        "Confirm the new current directory"
      ]
    },
    {
      "cell_type": "code",
      "execution_count": 3,
      "metadata": {
        "id": "vz3S-_kjz3jA",
        "outputId": "00b79ae4-75d0-4a96-d193-ac9ef9847ea2"
      },
      "outputs": [
        {
          "data": {
            "text/plain": [
              "'c:\\\\-MY STUDY-\\\\Coding\\\\projects\\\\project-5'"
            ]
          },
          "execution_count": 3,
          "metadata": {},
          "output_type": "execute_result"
        }
      ],
      "source": [
        "current_dir = os.getcwd()\n",
        "current_dir"
      ]
    },
    {
      "cell_type": "markdown",
      "metadata": {
        "id": "-mavJ8DibrcQ"
      },
      "source": [
        "# Load Data"
      ]
    },
    {
      "cell_type": "code",
      "execution_count": 4,
      "metadata": {},
      "outputs": [
        {
          "data": {
            "text/html": [
              "<div>\n",
              "<style scoped>\n",
              "    .dataframe tbody tr th:only-of-type {\n",
              "        vertical-align: middle;\n",
              "    }\n",
              "\n",
              "    .dataframe tbody tr th {\n",
              "        vertical-align: top;\n",
              "    }\n",
              "\n",
              "    .dataframe thead th {\n",
              "        text-align: right;\n",
              "    }\n",
              "</style>\n",
              "<table border=\"1\" class=\"dataframe\">\n",
              "  <thead>\n",
              "    <tr style=\"text-align: right;\">\n",
              "      <th></th>\n",
              "      <th>1stFlrSF</th>\n",
              "      <th>2ndFlrSF</th>\n",
              "      <th>BedroomAbvGr</th>\n",
              "      <th>BsmtExposure</th>\n",
              "      <th>BsmtFinSF1</th>\n",
              "      <th>BsmtFinType1</th>\n",
              "      <th>BsmtUnfSF</th>\n",
              "      <th>GarageArea</th>\n",
              "      <th>GarageFinish</th>\n",
              "      <th>GarageYrBlt</th>\n",
              "      <th>...</th>\n",
              "      <th>LotArea</th>\n",
              "      <th>LotFrontage</th>\n",
              "      <th>MasVnrArea</th>\n",
              "      <th>OpenPorchSF</th>\n",
              "      <th>OverallCond</th>\n",
              "      <th>OverallQual</th>\n",
              "      <th>TotalBsmtSF</th>\n",
              "      <th>YearBuilt</th>\n",
              "      <th>YearRemodAdd</th>\n",
              "      <th>SalePrice</th>\n",
              "    </tr>\n",
              "  </thead>\n",
              "  <tbody>\n",
              "    <tr>\n",
              "      <th>0</th>\n",
              "      <td>1068</td>\n",
              "      <td>0.0</td>\n",
              "      <td>3.0</td>\n",
              "      <td>No</td>\n",
              "      <td>663</td>\n",
              "      <td>GLQ</td>\n",
              "      <td>396</td>\n",
              "      <td>264</td>\n",
              "      <td>RFn</td>\n",
              "      <td>1963.0</td>\n",
              "      <td>...</td>\n",
              "      <td>8414</td>\n",
              "      <td>70.0</td>\n",
              "      <td>0.0</td>\n",
              "      <td>0</td>\n",
              "      <td>8</td>\n",
              "      <td>6</td>\n",
              "      <td>1059</td>\n",
              "      <td>1963</td>\n",
              "      <td>2003</td>\n",
              "      <td>154500</td>\n",
              "    </tr>\n",
              "    <tr>\n",
              "      <th>1</th>\n",
              "      <td>1500</td>\n",
              "      <td>0.0</td>\n",
              "      <td>3.0</td>\n",
              "      <td>Av</td>\n",
              "      <td>1032</td>\n",
              "      <td>GLQ</td>\n",
              "      <td>431</td>\n",
              "      <td>712</td>\n",
              "      <td>RFn</td>\n",
              "      <td>1994.0</td>\n",
              "      <td>...</td>\n",
              "      <td>12256</td>\n",
              "      <td>98.0</td>\n",
              "      <td>362.0</td>\n",
              "      <td>32</td>\n",
              "      <td>5</td>\n",
              "      <td>8</td>\n",
              "      <td>1463</td>\n",
              "      <td>1994</td>\n",
              "      <td>1995</td>\n",
              "      <td>325000</td>\n",
              "    </tr>\n",
              "    <tr>\n",
              "      <th>2</th>\n",
              "      <td>1028</td>\n",
              "      <td>0.0</td>\n",
              "      <td>2.0</td>\n",
              "      <td>No</td>\n",
              "      <td>0</td>\n",
              "      <td>Unf</td>\n",
              "      <td>1008</td>\n",
              "      <td>360</td>\n",
              "      <td>Unf</td>\n",
              "      <td>1927.0</td>\n",
              "      <td>...</td>\n",
              "      <td>8960</td>\n",
              "      <td>56.0</td>\n",
              "      <td>0.0</td>\n",
              "      <td>0</td>\n",
              "      <td>6</td>\n",
              "      <td>5</td>\n",
              "      <td>1008</td>\n",
              "      <td>1927</td>\n",
              "      <td>1950</td>\n",
              "      <td>115000</td>\n",
              "    </tr>\n",
              "    <tr>\n",
              "      <th>3</th>\n",
              "      <td>1004</td>\n",
              "      <td>0.0</td>\n",
              "      <td>3.0</td>\n",
              "      <td>No</td>\n",
              "      <td>399</td>\n",
              "      <td>ALQ</td>\n",
              "      <td>605</td>\n",
              "      <td>420</td>\n",
              "      <td>Unf</td>\n",
              "      <td>1950.0</td>\n",
              "      <td>...</td>\n",
              "      <td>5000</td>\n",
              "      <td>50.0</td>\n",
              "      <td>0.0</td>\n",
              "      <td>24</td>\n",
              "      <td>7</td>\n",
              "      <td>6</td>\n",
              "      <td>1004</td>\n",
              "      <td>1947</td>\n",
              "      <td>1950</td>\n",
              "      <td>159000</td>\n",
              "    </tr>\n",
              "    <tr>\n",
              "      <th>4</th>\n",
              "      <td>1620</td>\n",
              "      <td>0.0</td>\n",
              "      <td>2.0</td>\n",
              "      <td>Gd</td>\n",
              "      <td>1022</td>\n",
              "      <td>GLQ</td>\n",
              "      <td>598</td>\n",
              "      <td>912</td>\n",
              "      <td>Fin</td>\n",
              "      <td>2008.0</td>\n",
              "      <td>...</td>\n",
              "      <td>12898</td>\n",
              "      <td>89.0</td>\n",
              "      <td>70.0</td>\n",
              "      <td>0</td>\n",
              "      <td>5</td>\n",
              "      <td>9</td>\n",
              "      <td>1620</td>\n",
              "      <td>2007</td>\n",
              "      <td>2008</td>\n",
              "      <td>315500</td>\n",
              "    </tr>\n",
              "  </tbody>\n",
              "</table>\n",
              "<p>5 rows × 22 columns</p>\n",
              "</div>"
            ],
            "text/plain": [
              "   1stFlrSF  2ndFlrSF  BedroomAbvGr BsmtExposure  BsmtFinSF1 BsmtFinType1  \\\n",
              "0      1068       0.0           3.0           No         663          GLQ   \n",
              "1      1500       0.0           3.0           Av        1032          GLQ   \n",
              "2      1028       0.0           2.0           No           0          Unf   \n",
              "3      1004       0.0           3.0           No         399          ALQ   \n",
              "4      1620       0.0           2.0           Gd        1022          GLQ   \n",
              "\n",
              "   BsmtUnfSF  GarageArea GarageFinish  GarageYrBlt  ...  LotArea LotFrontage  \\\n",
              "0        396         264          RFn       1963.0  ...     8414        70.0   \n",
              "1        431         712          RFn       1994.0  ...    12256        98.0   \n",
              "2       1008         360          Unf       1927.0  ...     8960        56.0   \n",
              "3        605         420          Unf       1950.0  ...     5000        50.0   \n",
              "4        598         912          Fin       2008.0  ...    12898        89.0   \n",
              "\n",
              "   MasVnrArea  OpenPorchSF  OverallCond  OverallQual  TotalBsmtSF  YearBuilt  \\\n",
              "0         0.0            0            8            6         1059       1963   \n",
              "1       362.0           32            5            8         1463       1994   \n",
              "2         0.0            0            6            5         1008       1927   \n",
              "3         0.0           24            7            6         1004       1947   \n",
              "4        70.0            0            5            9         1620       2007   \n",
              "\n",
              "   YearRemodAdd  SalePrice  \n",
              "0          2003     154500  \n",
              "1          1995     325000  \n",
              "2          1950     115000  \n",
              "3          1950     159000  \n",
              "4          2008     315500  \n",
              "\n",
              "[5 rows x 22 columns]"
            ]
          },
          "execution_count": 4,
          "metadata": {},
          "output_type": "execute_result"
        }
      ],
      "source": [
        "import pandas as pd\n",
        "\n",
        "# Load the cleaned data\n",
        "train_df = pd.read_csv(\"outputs/datasets/cleaned/house_prices_records_train.csv\")\n",
        "test_df = pd.read_csv(\"outputs/datasets/cleaned/house_prices_records_test.csv\")\n",
        "\n",
        "# Display the first few rows of the cleaned data\n",
        "train_df.head()\n",
        "test_df.head()"
      ]
    },
    {
      "cell_type": "code",
      "execution_count": 5,
      "metadata": {},
      "outputs": [
        {
          "name": "stdout",
          "output_type": "stream",
          "text": [
            "<class 'pandas.core.frame.DataFrame'>\n",
            "RangeIndex: 1168 entries, 0 to 1167\n",
            "Data columns (total 22 columns):\n",
            " #   Column        Non-Null Count  Dtype  \n",
            "---  ------        --------------  -----  \n",
            " 0   1stFlrSF      1168 non-null   int64  \n",
            " 1   2ndFlrSF      1168 non-null   float64\n",
            " 2   BedroomAbvGr  1168 non-null   float64\n",
            " 3   BsmtExposure  1168 non-null   object \n",
            " 4   BsmtFinSF1    1168 non-null   int64  \n",
            " 5   BsmtFinType1  1168 non-null   object \n",
            " 6   BsmtUnfSF     1168 non-null   int64  \n",
            " 7   GarageArea    1168 non-null   int64  \n",
            " 8   GarageFinish  1168 non-null   object \n",
            " 9   GarageYrBlt   1168 non-null   float64\n",
            " 10  GrLivArea     1168 non-null   int64  \n",
            " 11  KitchenQual   1168 non-null   object \n",
            " 12  LotArea       1168 non-null   int64  \n",
            " 13  LotFrontage   1168 non-null   float64\n",
            " 14  MasVnrArea    1168 non-null   float64\n",
            " 15  OpenPorchSF   1168 non-null   int64  \n",
            " 16  OverallCond   1168 non-null   int64  \n",
            " 17  OverallQual   1168 non-null   int64  \n",
            " 18  TotalBsmtSF   1168 non-null   int64  \n",
            " 19  YearBuilt     1168 non-null   int64  \n",
            " 20  YearRemodAdd  1168 non-null   int64  \n",
            " 21  SalePrice     1168 non-null   int64  \n",
            "dtypes: float64(5), int64(13), object(4)\n",
            "memory usage: 200.9+ KB\n"
          ]
        }
      ],
      "source": [
        "train_df.info()"
      ]
    },
    {
      "cell_type": "code",
      "execution_count": 6,
      "metadata": {},
      "outputs": [
        {
          "name": "stdout",
          "output_type": "stream",
          "text": [
            "<class 'pandas.core.frame.DataFrame'>\n",
            "RangeIndex: 292 entries, 0 to 291\n",
            "Data columns (total 22 columns):\n",
            " #   Column        Non-Null Count  Dtype  \n",
            "---  ------        --------------  -----  \n",
            " 0   1stFlrSF      292 non-null    int64  \n",
            " 1   2ndFlrSF      292 non-null    float64\n",
            " 2   BedroomAbvGr  292 non-null    float64\n",
            " 3   BsmtExposure  292 non-null    object \n",
            " 4   BsmtFinSF1    292 non-null    int64  \n",
            " 5   BsmtFinType1  292 non-null    object \n",
            " 6   BsmtUnfSF     292 non-null    int64  \n",
            " 7   GarageArea    292 non-null    int64  \n",
            " 8   GarageFinish  292 non-null    object \n",
            " 9   GarageYrBlt   292 non-null    float64\n",
            " 10  GrLivArea     292 non-null    int64  \n",
            " 11  KitchenQual   292 non-null    object \n",
            " 12  LotArea       292 non-null    int64  \n",
            " 13  LotFrontage   292 non-null    float64\n",
            " 14  MasVnrArea    292 non-null    float64\n",
            " 15  OpenPorchSF   292 non-null    int64  \n",
            " 16  OverallCond   292 non-null    int64  \n",
            " 17  OverallQual   292 non-null    int64  \n",
            " 18  TotalBsmtSF   292 non-null    int64  \n",
            " 19  YearBuilt     292 non-null    int64  \n",
            " 20  YearRemodAdd  292 non-null    int64  \n",
            " 21  SalePrice     292 non-null    int64  \n",
            "dtypes: float64(5), int64(13), object(4)\n",
            "memory usage: 50.3+ KB\n"
          ]
        }
      ],
      "source": [
        "test_df.info()"
      ]
    },
    {
      "cell_type": "markdown",
      "metadata": {},
      "source": [
        "---"
      ]
    },
    {
      "cell_type": "markdown",
      "metadata": {},
      "source": [
        "# Conclusions"
      ]
    }
  ],
  "metadata": {
    "accelerator": "GPU",
    "colab": {
      "name": "Data Practitioner Jupyter Notebook.ipynb",
      "provenance": [],
      "toc_visible": true
    },
    "kernelspec": {
      "display_name": ".venv",
      "language": "python",
      "name": "python3"
    },
    "language_info": {
      "codemirror_mode": {
        "name": "ipython",
        "version": 3
      },
      "file_extension": ".py",
      "mimetype": "text/x-python",
      "name": "python",
      "nbconvert_exporter": "python",
      "pygments_lexer": "ipython3",
      "version": "3.12.4"
    },
    "orig_nbformat": 2
  },
  "nbformat": 4,
  "nbformat_minor": 2
}
